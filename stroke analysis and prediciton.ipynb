{
 "cells": [
  {
   "cell_type": "markdown",
   "metadata": {},
   "source": [
    "### Importing the required libraries."
   ]
  },
  {
   "cell_type": "code",
   "execution_count": 1,
   "metadata": {},
   "outputs": [],
   "source": [
    "import numpy as np\n",
    "import pandas as pd\n",
    "import matplotlib.pyplot as plt\n",
    "import seaborn as sns"
   ]
  },
  {
   "cell_type": "code",
   "execution_count": 2,
   "metadata": {},
   "outputs": [],
   "source": [
    "from sklearn.model_selection import train_test_split\n",
    "from sklearn.metrics import confusion_matrix,accuracy_score,classification_report"
   ]
  },
  {
   "cell_type": "markdown",
   "metadata": {},
   "source": [
    "### Importing the faker library"
   ]
  },
  {
   "cell_type": "code",
   "execution_count": 3,
   "metadata": {},
   "outputs": [],
   "source": [
    "from faker import Faker\n",
    "fake = Faker()"
   ]
  },
  {
   "cell_type": "markdown",
   "metadata": {},
   "source": [
    "### Creating the synthetic dataset"
   ]
  },
  {
   "cell_type": "code",
   "execution_count": 4,
   "metadata": {},
   "outputs": [],
   "source": [
    "def stroke_data(num=1, seed=None):\n",
    "    \"\"\"\n",
    "    \"\"\"\n",
    "    np.random.seed(seed)\n",
    "    fake.seed_instance(seed)\n",
    "    \n",
    "    output = [\n",
    "        {\n",
    "            \"id\": x+1,\n",
    "            \"gender\": np.random.choice([\"Male\",\"Female\"], p=[0.66,0.34]),\n",
    "            \"age\": fake.random_int(20,80),\n",
    "            \"hypertension\": np.random.choice([0,1], p=[0.6,0.4]),\n",
    "            \"heart_disease\": np.random.choice([0,1], p=[0.6,0.4]),\n",
    "            \"ever_married\": np.random.choice([\"Yes\",\"No\"], p=[0.65,0.35]),\n",
    "            \"work_type\": np.random.choice([\"children\",\"Private\",\"Govt_job\",\"Self-employed\"], p=[0.1,0.4,0.2,0.3]),\n",
    "            \"Residence_type\": np.random.choice([\"Rural\",\"Urban\"], p=[0.3,0.7]),\n",
    "            \"avg_glucose_level\": fake.random_int(70,160),\n",
    "            \"bmi\": fake.random_int(15,50),\n",
    "            \"smoking_status\": np.random.choice([\"Unknown\",\"never smoked\",\"formerly smoked\",\"smokes\"], p=[0.1,0.2,0.4,0.3]),\n",
    "            \"stroke\": np.random.choice([0,1], p=[0.6,0.4])\n",
    "        }\n",
    "        for x in range(num)\n",
    "    ]\n",
    "    return output"
   ]
  },
  {
   "cell_type": "markdown",
   "metadata": {},
   "source": [
    "### Loading the dataset to a dataframe"
   ]
  },
  {
   "cell_type": "code",
   "execution_count": 5,
   "metadata": {
    "scrolled": false
   },
   "outputs": [],
   "source": [
    "df = pd.DataFrame(stroke_data(num=50000,seed=0))\n",
    "df\n",
    "df.to_csv('stroke.csv')"
   ]
  },
  {
   "cell_type": "code",
   "execution_count": 6,
   "metadata": {},
   "outputs": [
    {
     "data": {
      "text/html": [
       "<div>\n",
       "<style scoped>\n",
       "    .dataframe tbody tr th:only-of-type {\n",
       "        vertical-align: middle;\n",
       "    }\n",
       "\n",
       "    .dataframe tbody tr th {\n",
       "        vertical-align: top;\n",
       "    }\n",
       "\n",
       "    .dataframe thead th {\n",
       "        text-align: right;\n",
       "    }\n",
       "</style>\n",
       "<table border=\"1\" class=\"dataframe\">\n",
       "  <thead>\n",
       "    <tr style=\"text-align: right;\">\n",
       "      <th></th>\n",
       "      <th>id</th>\n",
       "      <th>gender</th>\n",
       "      <th>age</th>\n",
       "      <th>hypertension</th>\n",
       "      <th>heart_disease</th>\n",
       "      <th>ever_married</th>\n",
       "      <th>work_type</th>\n",
       "      <th>Residence_type</th>\n",
       "      <th>avg_glucose_level</th>\n",
       "      <th>bmi</th>\n",
       "      <th>smoking_status</th>\n",
       "      <th>stroke</th>\n",
       "    </tr>\n",
       "  </thead>\n",
       "  <tbody>\n",
       "    <tr>\n",
       "      <th>0</th>\n",
       "      <td>1</td>\n",
       "      <td>Male</td>\n",
       "      <td>74</td>\n",
       "      <td>1</td>\n",
       "      <td>1</td>\n",
       "      <td>Yes</td>\n",
       "      <td>Private</td>\n",
       "      <td>Urban</td>\n",
       "      <td>119</td>\n",
       "      <td>41</td>\n",
       "      <td>formerly smoked</td>\n",
       "      <td>1</td>\n",
       "    </tr>\n",
       "    <tr>\n",
       "      <th>1</th>\n",
       "      <td>2</td>\n",
       "      <td>Female</td>\n",
       "      <td>22</td>\n",
       "      <td>0</td>\n",
       "      <td>1</td>\n",
       "      <td>Yes</td>\n",
       "      <td>Govt_job</td>\n",
       "      <td>Urban</td>\n",
       "      <td>103</td>\n",
       "      <td>47</td>\n",
       "      <td>Unknown</td>\n",
       "      <td>0</td>\n",
       "    </tr>\n",
       "    <tr>\n",
       "      <th>2</th>\n",
       "      <td>3</td>\n",
       "      <td>Male</td>\n",
       "      <td>51</td>\n",
       "      <td>1</td>\n",
       "      <td>1</td>\n",
       "      <td>No</td>\n",
       "      <td>Self-employed</td>\n",
       "      <td>Urban</td>\n",
       "      <td>121</td>\n",
       "      <td>34</td>\n",
       "      <td>formerly smoked</td>\n",
       "      <td>1</td>\n",
       "    </tr>\n",
       "    <tr>\n",
       "      <th>3</th>\n",
       "      <td>4</td>\n",
       "      <td>Male</td>\n",
       "      <td>50</td>\n",
       "      <td>1</td>\n",
       "      <td>0</td>\n",
       "      <td>No</td>\n",
       "      <td>Govt_job</td>\n",
       "      <td>Urban</td>\n",
       "      <td>115</td>\n",
       "      <td>28</td>\n",
       "      <td>never smoked</td>\n",
       "      <td>1</td>\n",
       "    </tr>\n",
       "    <tr>\n",
       "      <th>4</th>\n",
       "      <td>5</td>\n",
       "      <td>Male</td>\n",
       "      <td>52</td>\n",
       "      <td>0</td>\n",
       "      <td>0</td>\n",
       "      <td>Yes</td>\n",
       "      <td>Govt_job</td>\n",
       "      <td>Urban</td>\n",
       "      <td>87</td>\n",
       "      <td>33</td>\n",
       "      <td>smokes</td>\n",
       "      <td>1</td>\n",
       "    </tr>\n",
       "    <tr>\n",
       "      <th>...</th>\n",
       "      <td>...</td>\n",
       "      <td>...</td>\n",
       "      <td>...</td>\n",
       "      <td>...</td>\n",
       "      <td>...</td>\n",
       "      <td>...</td>\n",
       "      <td>...</td>\n",
       "      <td>...</td>\n",
       "      <td>...</td>\n",
       "      <td>...</td>\n",
       "      <td>...</td>\n",
       "      <td>...</td>\n",
       "    </tr>\n",
       "    <tr>\n",
       "      <th>49995</th>\n",
       "      <td>49996</td>\n",
       "      <td>Female</td>\n",
       "      <td>45</td>\n",
       "      <td>0</td>\n",
       "      <td>1</td>\n",
       "      <td>Yes</td>\n",
       "      <td>Self-employed</td>\n",
       "      <td>Rural</td>\n",
       "      <td>111</td>\n",
       "      <td>44</td>\n",
       "      <td>smokes</td>\n",
       "      <td>0</td>\n",
       "    </tr>\n",
       "    <tr>\n",
       "      <th>49996</th>\n",
       "      <td>49997</td>\n",
       "      <td>Male</td>\n",
       "      <td>65</td>\n",
       "      <td>0</td>\n",
       "      <td>0</td>\n",
       "      <td>Yes</td>\n",
       "      <td>Self-employed</td>\n",
       "      <td>Rural</td>\n",
       "      <td>102</td>\n",
       "      <td>30</td>\n",
       "      <td>formerly smoked</td>\n",
       "      <td>1</td>\n",
       "    </tr>\n",
       "    <tr>\n",
       "      <th>49997</th>\n",
       "      <td>49998</td>\n",
       "      <td>Male</td>\n",
       "      <td>78</td>\n",
       "      <td>0</td>\n",
       "      <td>1</td>\n",
       "      <td>Yes</td>\n",
       "      <td>Private</td>\n",
       "      <td>Urban</td>\n",
       "      <td>110</td>\n",
       "      <td>26</td>\n",
       "      <td>never smoked</td>\n",
       "      <td>1</td>\n",
       "    </tr>\n",
       "    <tr>\n",
       "      <th>49998</th>\n",
       "      <td>49999</td>\n",
       "      <td>Female</td>\n",
       "      <td>29</td>\n",
       "      <td>1</td>\n",
       "      <td>1</td>\n",
       "      <td>No</td>\n",
       "      <td>Self-employed</td>\n",
       "      <td>Urban</td>\n",
       "      <td>144</td>\n",
       "      <td>17</td>\n",
       "      <td>smokes</td>\n",
       "      <td>0</td>\n",
       "    </tr>\n",
       "    <tr>\n",
       "      <th>49999</th>\n",
       "      <td>50000</td>\n",
       "      <td>Female</td>\n",
       "      <td>41</td>\n",
       "      <td>1</td>\n",
       "      <td>0</td>\n",
       "      <td>Yes</td>\n",
       "      <td>children</td>\n",
       "      <td>Urban</td>\n",
       "      <td>96</td>\n",
       "      <td>15</td>\n",
       "      <td>never smoked</td>\n",
       "      <td>0</td>\n",
       "    </tr>\n",
       "  </tbody>\n",
       "</table>\n",
       "<p>50000 rows × 12 columns</p>\n",
       "</div>"
      ],
      "text/plain": [
       "          id  gender  age  hypertension  heart_disease ever_married  \\\n",
       "0          1    Male   74             1              1          Yes   \n",
       "1          2  Female   22             0              1          Yes   \n",
       "2          3    Male   51             1              1           No   \n",
       "3          4    Male   50             1              0           No   \n",
       "4          5    Male   52             0              0          Yes   \n",
       "...      ...     ...  ...           ...            ...          ...   \n",
       "49995  49996  Female   45             0              1          Yes   \n",
       "49996  49997    Male   65             0              0          Yes   \n",
       "49997  49998    Male   78             0              1          Yes   \n",
       "49998  49999  Female   29             1              1           No   \n",
       "49999  50000  Female   41             1              0          Yes   \n",
       "\n",
       "           work_type Residence_type  avg_glucose_level  bmi   smoking_status  \\\n",
       "0            Private          Urban                119   41  formerly smoked   \n",
       "1           Govt_job          Urban                103   47          Unknown   \n",
       "2      Self-employed          Urban                121   34  formerly smoked   \n",
       "3           Govt_job          Urban                115   28     never smoked   \n",
       "4           Govt_job          Urban                 87   33           smokes   \n",
       "...              ...            ...                ...  ...              ...   \n",
       "49995  Self-employed          Rural                111   44           smokes   \n",
       "49996  Self-employed          Rural                102   30  formerly smoked   \n",
       "49997        Private          Urban                110   26     never smoked   \n",
       "49998  Self-employed          Urban                144   17           smokes   \n",
       "49999       children          Urban                 96   15     never smoked   \n",
       "\n",
       "       stroke  \n",
       "0           1  \n",
       "1           0  \n",
       "2           1  \n",
       "3           1  \n",
       "4           1  \n",
       "...       ...  \n",
       "49995       0  \n",
       "49996       1  \n",
       "49997       1  \n",
       "49998       0  \n",
       "49999       0  \n",
       "\n",
       "[50000 rows x 12 columns]"
      ]
     },
     "execution_count": 6,
     "metadata": {},
     "output_type": "execute_result"
    }
   ],
   "source": [
    "df"
   ]
  },
  {
   "cell_type": "code",
   "execution_count": 7,
   "metadata": {},
   "outputs": [
    {
     "name": "stdout",
     "output_type": "stream",
     "text": [
      "<class 'pandas.core.frame.DataFrame'>\n",
      "RangeIndex: 50000 entries, 0 to 49999\n",
      "Data columns (total 12 columns):\n",
      " #   Column             Non-Null Count  Dtype \n",
      "---  ------             --------------  ----- \n",
      " 0   id                 50000 non-null  int64 \n",
      " 1   gender             50000 non-null  object\n",
      " 2   age                50000 non-null  int64 \n",
      " 3   hypertension       50000 non-null  int64 \n",
      " 4   heart_disease      50000 non-null  int64 \n",
      " 5   ever_married       50000 non-null  object\n",
      " 6   work_type          50000 non-null  object\n",
      " 7   Residence_type     50000 non-null  object\n",
      " 8   avg_glucose_level  50000 non-null  int64 \n",
      " 9   bmi                50000 non-null  int64 \n",
      " 10  smoking_status     50000 non-null  object\n",
      " 11  stroke             50000 non-null  int64 \n",
      "dtypes: int64(7), object(5)\n",
      "memory usage: 4.6+ MB\n"
     ]
    }
   ],
   "source": [
    "df.info()"
   ]
  },
  {
   "cell_type": "code",
   "execution_count": 8,
   "metadata": {},
   "outputs": [
    {
     "data": {
      "text/plain": [
       "0"
      ]
     },
     "execution_count": 8,
     "metadata": {},
     "output_type": "execute_result"
    }
   ],
   "source": [
    "df.duplicated().sum()"
   ]
  },
  {
   "cell_type": "code",
   "execution_count": 9,
   "metadata": {},
   "outputs": [
    {
     "data": {
      "text/plain": [
       "0"
      ]
     },
     "execution_count": 9,
     "metadata": {},
     "output_type": "execute_result"
    }
   ],
   "source": [
    "df.isnull().sum().sum()"
   ]
  },
  {
   "cell_type": "markdown",
   "metadata": {},
   "source": [
    "### Creating 3 different lists to contain different types of values"
   ]
  },
  {
   "cell_type": "code",
   "execution_count": 10,
   "metadata": {},
   "outputs": [],
   "source": [
    "categorical_cols = [ 'gender', 'hypertension', 'heart_disease', 'ever_married', 'work_type', 'Residence_type', 'smoking_status']\n",
    "continous_cols = ['age', 'avg_glucose_level', 'bmi']\n",
    "label_col = ['stroke']"
   ]
  },
  {
   "cell_type": "code",
   "execution_count": 11,
   "metadata": {},
   "outputs": [],
   "source": [
    "to_numeric = {\n",
    "    'gender':{'Male': 0, 'Female': 1, 'Other': 2},\n",
    "    'ever_married':{'No':0, 'Yes':1},\n",
    "    'work_type': {'children': 0, 'Govt_job': 1, 'Never_worked': 2, 'Private': 3, 'Self-employed': 4},\n",
    "    'Residence_type': {'Rural': 0, 'Urban': 1},\n",
    "    'smoking_status': {'formerly smoked': 0, 'never smoked': 1, 'smokes': 2, 'Unknown': 3},\n",
    "}"
   ]
  },
  {
   "cell_type": "code",
   "execution_count": 12,
   "metadata": {},
   "outputs": [],
   "source": [
    "name_change = {\n",
    "    'hypertension': {'0': \"patient doesn't have hypertension\", '1': 'patient has hypertension'}, \n",
    "    'heart_disease': {'0': \"patient doesn't have any heart diseases\", '1': \"patient has a heart disease\"},\n",
    "}"
   ]
  },
  {
   "cell_type": "code",
   "execution_count": 13,
   "metadata": {
    "scrolled": false
   },
   "outputs": [
    {
     "data": {
      "text/html": [
       "<div>\n",
       "<style scoped>\n",
       "    .dataframe tbody tr th:only-of-type {\n",
       "        vertical-align: middle;\n",
       "    }\n",
       "\n",
       "    .dataframe tbody tr th {\n",
       "        vertical-align: top;\n",
       "    }\n",
       "\n",
       "    .dataframe thead th {\n",
       "        text-align: right;\n",
       "    }\n",
       "</style>\n",
       "<table border=\"1\" class=\"dataframe\">\n",
       "  <thead>\n",
       "    <tr style=\"text-align: right;\">\n",
       "      <th></th>\n",
       "      <th>age</th>\n",
       "      <th>avg_glucose_level</th>\n",
       "      <th>bmi</th>\n",
       "    </tr>\n",
       "  </thead>\n",
       "  <tbody>\n",
       "    <tr>\n",
       "      <th>count</th>\n",
       "      <td>50000.000000</td>\n",
       "      <td>50000.000000</td>\n",
       "      <td>50000.000000</td>\n",
       "    </tr>\n",
       "    <tr>\n",
       "      <th>mean</th>\n",
       "      <td>50.024320</td>\n",
       "      <td>114.937320</td>\n",
       "      <td>32.500820</td>\n",
       "    </tr>\n",
       "    <tr>\n",
       "      <th>std</th>\n",
       "      <td>17.678967</td>\n",
       "      <td>26.223666</td>\n",
       "      <td>10.372939</td>\n",
       "    </tr>\n",
       "    <tr>\n",
       "      <th>min</th>\n",
       "      <td>20.000000</td>\n",
       "      <td>70.000000</td>\n",
       "      <td>15.000000</td>\n",
       "    </tr>\n",
       "    <tr>\n",
       "      <th>25%</th>\n",
       "      <td>35.000000</td>\n",
       "      <td>92.000000</td>\n",
       "      <td>24.000000</td>\n",
       "    </tr>\n",
       "    <tr>\n",
       "      <th>50%</th>\n",
       "      <td>50.000000</td>\n",
       "      <td>115.000000</td>\n",
       "      <td>32.000000</td>\n",
       "    </tr>\n",
       "    <tr>\n",
       "      <th>75%</th>\n",
       "      <td>65.000000</td>\n",
       "      <td>138.000000</td>\n",
       "      <td>41.000000</td>\n",
       "    </tr>\n",
       "    <tr>\n",
       "      <th>max</th>\n",
       "      <td>80.000000</td>\n",
       "      <td>160.000000</td>\n",
       "      <td>50.000000</td>\n",
       "    </tr>\n",
       "  </tbody>\n",
       "</table>\n",
       "</div>"
      ],
      "text/plain": [
       "                age  avg_glucose_level           bmi\n",
       "count  50000.000000       50000.000000  50000.000000\n",
       "mean      50.024320         114.937320     32.500820\n",
       "std       17.678967          26.223666     10.372939\n",
       "min       20.000000          70.000000     15.000000\n",
       "25%       35.000000          92.000000     24.000000\n",
       "50%       50.000000         115.000000     32.000000\n",
       "75%       65.000000         138.000000     41.000000\n",
       "max       80.000000         160.000000     50.000000"
      ]
     },
     "execution_count": 13,
     "metadata": {},
     "output_type": "execute_result"
    }
   ],
   "source": [
    "df[continous_cols].describe()"
   ]
  },
  {
   "cell_type": "markdown",
   "metadata": {},
   "source": [
    "### Data Visualization"
   ]
  },
  {
   "cell_type": "code",
   "execution_count": 14,
   "metadata": {
    "scrolled": true
   },
   "outputs": [
    {
     "data": {
      "text/plain": [
       "<BarContainer object of 2 artists>"
      ]
     },
     "execution_count": 14,
     "metadata": {},
     "output_type": "execute_result"
    },
    {
     "data": {
      "image/png": "[encoded data removed]",
      "text/plain": [
       "<Figure size 1800x576 with 1 Axes>"
      ]
     },
     "metadata": {
      "needs_background": "light"
     },
     "output_type": "display_data"
    }
   ],
   "source": [
    "x = 'gender'\n",
    "val = df[x].value_counts().index\n",
    "cnt = df[x].value_counts().values\n",
    "plt.figure(figsize=(25,8))\n",
    "plt.title(x,fontsize=20)\n",
    "plt.xticks(fontsize=16)\n",
    "plt.yticks(fontsize=16)\n",
    "plt.xlabel(x,fontsize=16)\n",
    "plt.bar(val,cnt)"
   ]
  },
  {
   "cell_type": "code",
   "execution_count": 15,
   "metadata": {},
   "outputs": [
    {
     "data": {
      "text/plain": [
       "<BarContainer object of 61 artists>"
      ]
     },
     "execution_count": 15,
     "metadata": {},
     "output_type": "execute_result"
    },
    {
     "data": {
      "image/png": "[encoded data removed]",
      "text/plain": [
       "<Figure size 1800x576 with 1 Axes>"
      ]
     },
     "metadata": {
      "needs_background": "light"
     },
     "output_type": "display_data"
    }
   ],
   "source": [
    "x = 'age'\n",
    "val = df[x].value_counts().index\n",
    "cnt = df[x].value_counts().values\n",
    "plt.figure(figsize=(25,8))\n",
    "plt.title(x,fontsize=20)\n",
    "plt.xticks(fontsize=16)\n",
    "plt.yticks(fontsize=16)\n",
    "plt.xlabel(x,fontsize=16)\n",
    "plt.bar(val,cnt)"
   ]
  },
  {
   "cell_type": "code",
   "execution_count": 16,
   "metadata": {
    "scrolled": true
   },
   "outputs": [
    {
     "data": {
      "text/plain": [
       "<BarContainer object of 2 artists>"
      ]
     },
     "execution_count": 16,
     "metadata": {},
     "output_type": "execute_result"
    },
    {
     "data": {
      "image/png": "[encoded data removed]",
      "text/plain": [
       "<Figure size 1800x576 with 1 Axes>"
      ]
     },
     "metadata": {
      "needs_background": "light"
     },
     "output_type": "display_data"
    }
   ],
   "source": [
    "x = 'hypertension'\n",
    "val = df[x].value_counts().index\n",
    "cnt = df[x].value_counts().values\n",
    "plt.figure(figsize=(25,8))\n",
    "plt.title(x,fontsize=20)\n",
    "plt.xticks(fontsize=16)\n",
    "plt.yticks(fontsize=16)\n",
    "plt.xlabel(x,fontsize=16)\n",
    "plt.bar(val,cnt)"
   ]
  },
  {
   "cell_type": "code",
   "execution_count": 17,
   "metadata": {},
   "outputs": [
    {
     "data": {
      "text/plain": [
       "<BarContainer object of 2 artists>"
      ]
     },
     "execution_count": 17,
     "metadata": {},
     "output_type": "execute_result"
    },
    {
     "data": {
      "image/png": "[encoded data removed]",
      "text/plain": [
       "<Figure size 1800x576 with 1 Axes>"
      ]
     },
     "metadata": {
      "needs_background": "light"
     },
     "output_type": "display_data"
    }
   ],
   "source": [
    "x = 'heart_disease'\n",
    "val = df[x].value_counts().index\n",
    "cnt = df[x].value_counts().values\n",
    "plt.figure(figsize=(25,8))\n",
    "plt.title(x,fontsize=20)\n",
    "plt.xticks(fontsize=16)\n",
    "plt.yticks(fontsize=16)\n",
    "plt.xlabel(x,fontsize=16)\n",
    "plt.bar(val,cnt)"
   ]
  },
  {
   "cell_type": "code",
   "execution_count": 18,
   "metadata": {},
   "outputs": [
    {
     "data": {
      "text/plain": [
       "<BarContainer object of 2 artists>"
      ]
     },
     "execution_count": 18,
     "metadata": {},
     "output_type": "execute_result"
    },
    {
     "data": {
      "image/png": "[encoded data removed]",
      "text/plain": [
       "<Figure size 1800x576 with 1 Axes>"
      ]
     },
     "metadata": {
      "needs_background": "light"
     },
     "output_type": "display_data"
    }
   ],
   "source": [
    "x = 'ever_married'\n",
    "val = df[x].value_counts().index\n",
    "cnt = df[x].value_counts().values\n",
    "plt.figure(figsize=(25,8))\n",
    "plt.title(x,fontsize=20)\n",
    "plt.xticks(fontsize=16)\n",
    "plt.yticks(fontsize=16)\n",
    "plt.xlabel(x,fontsize=16)\n",
    "plt.bar(val,cnt)"
   ]
  },
  {
   "cell_type": "code",
   "execution_count": 19,
   "metadata": {},
   "outputs": [
    {
     "data": {
      "text/plain": [
       "<BarContainer object of 4 artists>"
      ]
     },
     "execution_count": 19,
     "metadata": {},
     "output_type": "execute_result"
    },
    {
     "data": {
      "image/png": "[encoded data removed]",
      "text/plain": [
       "<Figure size 1800x576 with 1 Axes>"
      ]
     },
     "metadata": {
      "needs_background": "light"
     },
     "output_type": "display_data"
    }
   ],
   "source": [
    "x = 'work_type'\n",
    "val = df[x].value_counts().index\n",
    "cnt = df[x].value_counts().values\n",
    "plt.figure(figsize=(25,8))\n",
    "plt.title(x,fontsize=20)\n",
    "plt.xticks(fontsize=16)\n",
    "plt.yticks(fontsize=16)\n",
    "plt.xlabel(x,fontsize=16)\n",
    "plt.bar(val,cnt)"
   ]
  },
  {
   "cell_type": "code",
   "execution_count": 20,
   "metadata": {},
   "outputs": [
    {
     "data": {
      "text/plain": [
       "<BarContainer object of 2 artists>"
      ]
     },
     "execution_count": 20,
     "metadata": {},
     "output_type": "execute_result"
    },
    {
     "data": {
      "image/png": "[encoded data removed]",
      "text/plain": [
       "<Figure size 1800x576 with 1 Axes>"
      ]
     },
     "metadata": {
      "needs_background": "light"
     },
     "output_type": "display_data"
    }
   ],
   "source": [
    "x = 'Residence_type'\n",
    "val = df[x].value_counts().index\n",
    "cnt = df[x].value_counts().values\n",
    "plt.figure(figsize=(25,8))\n",
    "plt.title(x,fontsize=20)\n",
    "plt.xticks(fontsize=16)\n",
    "plt.yticks(fontsize=16)\n",
    "plt.xlabel(x,fontsize=16)\n",
    "plt.bar(val,cnt)"
   ]
  },
  {
   "cell_type": "code",
   "execution_count": 21,
   "metadata": {},
   "outputs": [
    {
     "data": {
      "text/plain": [
       "<BarContainer object of 91 artists>"
      ]
     },
     "execution_count": 21,
     "metadata": {},
     "output_type": "execute_result"
    },
    {
     "data": {
      "image/png": "[encoded data removed]",
      "text/plain": [
       "<Figure size 1800x576 with 1 Axes>"
      ]
     },
     "metadata": {
      "needs_background": "light"
     },
     "output_type": "display_data"
    }
   ],
   "source": [
    "x = 'avg_glucose_level'\n",
    "val = df[x].value_counts().index\n",
    "cnt = df[x].value_counts().values\n",
    "plt.figure(figsize=(25,8))\n",
    "plt.title(x,fontsize=20)\n",
    "plt.xticks(fontsize=16)\n",
    "plt.yticks(fontsize=16)\n",
    "plt.xlabel(x,fontsize=16)\n",
    "plt.bar(val,cnt)"
   ]
  },
  {
   "cell_type": "code",
   "execution_count": 22,
   "metadata": {},
   "outputs": [
    {
     "data": {
      "text/plain": [
       "<BarContainer object of 36 artists>"
      ]
     },
     "execution_count": 22,
     "metadata": {},
     "output_type": "execute_result"
    },
    {
     "data": {
      "image/png": "[encoded data removed]",
      "text/plain": [
       "<Figure size 1800x576 with 1 Axes>"
      ]
     },
     "metadata": {
      "needs_background": "light"
     },
     "output_type": "display_data"
    }
   ],
   "source": [
    "x = 'bmi'\n",
    "val = df[x].value_counts().index\n",
    "cnt = df[x].value_counts().values\n",
    "plt.figure(figsize=(25,8))\n",
    "plt.title(x,fontsize=20)\n",
    "plt.xticks(fontsize=16)\n",
    "plt.yticks(fontsize=16)\n",
    "plt.xlabel(x,fontsize=16)\n",
    "plt.bar(val,cnt)"
   ]
  },
  {
   "cell_type": "code",
   "execution_count": 23,
   "metadata": {},
   "outputs": [],
   "source": [
    "temp_df = df.copy()\n",
    "temp_df = temp_df.drop(columns=['id'])\n",
    "for x in categorical_cols:\n",
    "    if x in to_numeric:\n",
    "        temp_df[x] = temp_df[x].map(lambda a: to_numeric[x][a])"
   ]
  },
  {
   "cell_type": "code",
   "execution_count": 24,
   "metadata": {},
   "outputs": [
    {
     "data": {
      "image/png": "[encoded data removed]",
      "text/plain": [
       "<Figure size 1296x720 with 1 Axes>"
      ]
     },
     "metadata": {
      "needs_background": "light"
     },
     "output_type": "display_data"
    }
   ],
   "source": [
    "f1 = df['stroke'].map(lambda x:  '1 = patient had a stroke' if x == 1 else \"0 = patient hadn't a stroke\")\n",
    "\n",
    "plt.figure(figsize=(18,10))\n",
    "val = f1.value_counts().index\n",
    "cnt = f1.value_counts().values\n",
    "\n",
    "plt.title('Count of the target', size=20)\n",
    "plt.tick_params(labelsize=16)\n",
    "plt.ylabel('Count', size=16)\n",
    "plt.xlabel('output', size=16)\n",
    "plt.bar(val, cnt);\n",
    "plt.show()"
   ]
  },
  {
   "cell_type": "code",
   "execution_count": 25,
   "metadata": {
    "scrolled": true
   },
   "outputs": [
    {
     "data": {
      "image/png": "[encoded data removed]",
      "text/plain": [
       "<Figure size 1728x1728 with 2 Axes>"
      ]
     },
     "metadata": {
      "needs_background": "light"
     },
     "output_type": "display_data"
    }
   ],
   "source": [
    "plt.figure(figsize = (24, 24))\n",
    "sns.heatmap(temp_df.corr(), cmap = \"coolwarm\", annot=True, fmt='.1f', linewidths=0.1);\n",
    "plt.yticks(rotation=0, size=16)\n",
    "plt.xticks(rotation=90,size=16)\n",
    "plt.title('Correlation Matrix', size=26)\n",
    "plt.show()"
   ]
  },
  {
   "cell_type": "markdown",
   "metadata": {},
   "source": [
    "### Dropping the 'id' column"
   ]
  },
  {
   "cell_type": "code",
   "execution_count": 26,
   "metadata": {},
   "outputs": [],
   "source": [
    "df_tr = df.copy()\n",
    "df_tr = df_tr.drop(columns=['id'])"
   ]
  },
  {
   "cell_type": "code",
   "execution_count": 27,
   "metadata": {},
   "outputs": [],
   "source": [
    "for x in categorical_cols:\n",
    "    if x in to_numeric:\n",
    "        df_tr[x] = df_tr[x].map(lambda a: to_numeric[x][a])"
   ]
  },
  {
   "cell_type": "code",
   "execution_count": 28,
   "metadata": {},
   "outputs": [],
   "source": [
    "X = df_tr.drop(['stroke'],axis=1)\n",
    "y = df_tr['stroke']"
   ]
  },
  {
   "cell_type": "markdown",
   "metadata": {},
   "source": [
    "### Splitting the given data into train and test data"
   ]
  },
  {
   "cell_type": "code",
   "execution_count": 29,
   "metadata": {},
   "outputs": [],
   "source": [
    "X_train, X_test, y_train, y_test = train_test_split(X, y, test_size = 0.2, random_state = 0, stratify=y)"
   ]
  },
  {
   "cell_type": "markdown",
   "metadata": {},
   "source": [
    "### Implementing Decision tree algorithm"
   ]
  },
  {
   "cell_type": "code",
   "execution_count": 30,
   "metadata": {},
   "outputs": [],
   "source": [
    "from sklearn.tree import DecisionTreeClassifier\n",
    "dt = DecisionTreeClassifier()"
   ]
  },
  {
   "cell_type": "code",
   "execution_count": 31,
   "metadata": {},
   "outputs": [
    {
     "data": {
      "text/plain": [
       "DecisionTreeClassifier()"
      ]
     },
     "execution_count": 31,
     "metadata": {},
     "output_type": "execute_result"
    }
   ],
   "source": [
    "dt.fit(X_train,y_train)"
   ]
  },
  {
   "cell_type": "code",
   "execution_count": 32,
   "metadata": {},
   "outputs": [],
   "source": [
    "pred_y = dt.predict(X_test)"
   ]
  },
  {
   "cell_type": "code",
   "execution_count": 33,
   "metadata": {},
   "outputs": [
    {
     "data": {
      "text/plain": [
       "array([0, 0, 0, ..., 1, 1, 0], dtype=int64)"
      ]
     },
     "execution_count": 33,
     "metadata": {},
     "output_type": "execute_result"
    }
   ],
   "source": [
    "pred_y"
   ]
  },
  {
   "cell_type": "markdown",
   "metadata": {},
   "source": [
    "### Displaying the results"
   ]
  },
  {
   "cell_type": "code",
   "execution_count": 34,
   "metadata": {},
   "outputs": [
    {
     "data": {
      "text/plain": [
       "array([[3601, 2422],\n",
       "       [2348, 1629]], dtype=int64)"
      ]
     },
     "execution_count": 34,
     "metadata": {},
     "output_type": "execute_result"
    }
   ],
   "source": [
    "confusion_matrix(y_test,pred_y)"
   ]
  },
  {
   "cell_type": "code",
   "execution_count": 35,
   "metadata": {
    "scrolled": true
   },
   "outputs": [
    {
     "data": {
      "text/plain": [
       "0.523"
      ]
     },
     "execution_count": 35,
     "metadata": {},
     "output_type": "execute_result"
    }
   ],
   "source": [
    "accuracy_score(y_test,pred_y)"
   ]
  },
  {
   "cell_type": "code",
   "execution_count": 36,
   "metadata": {
    "scrolled": false
   },
   "outputs": [
    {
     "name": "stdout",
     "output_type": "stream",
     "text": [
      "                     precision    recall  f1-score   support\n",
      "\n",
      "         Has Stroke       0.61      0.60      0.60      6023\n",
      "Doesn't have stroke       0.40      0.41      0.41      3977\n",
      "\n",
      "           accuracy                           0.52     10000\n",
      "          macro avg       0.50      0.50      0.50     10000\n",
      "       weighted avg       0.52      0.52      0.52     10000\n",
      "\n"
     ]
    }
   ],
   "source": [
    "print(classification_report(y_test,pred_y,target_names=['Has Stroke','Doesn\\'t have stroke']))"
   ]
  },
  {
   "cell_type": "markdown",
   "metadata": {},
   "source": [
    "### Implementing Artificial neural networks algorithm"
   ]
  },
  {
   "cell_type": "code",
   "execution_count": 37,
   "metadata": {},
   "outputs": [],
   "source": [
    "from sklearn.preprocessing import LabelEncoder, OneHotEncoder\n",
    "labelencoder_X_2 = LabelEncoder()\n",
    "X.loc[:, 1] = labelencoder_X_2.fit_transform(X.iloc[:, 1])"
   ]
  },
  {
   "cell_type": "code",
   "execution_count": 38,
   "metadata": {
    "scrolled": true
   },
   "outputs": [
    {
     "data": {
      "text/html": [
       "<div>\n",
       "<style scoped>\n",
       "    .dataframe tbody tr th:only-of-type {\n",
       "        vertical-align: middle;\n",
       "    }\n",
       "\n",
       "    .dataframe tbody tr th {\n",
       "        vertical-align: top;\n",
       "    }\n",
       "\n",
       "    .dataframe thead th {\n",
       "        text-align: right;\n",
       "    }\n",
       "</style>\n",
       "<table border=\"1\" class=\"dataframe\">\n",
       "  <thead>\n",
       "    <tr style=\"text-align: right;\">\n",
       "      <th></th>\n",
       "      <th>gender</th>\n",
       "      <th>age</th>\n",
       "      <th>hypertension</th>\n",
       "      <th>heart_disease</th>\n",
       "      <th>ever_married</th>\n",
       "      <th>work_type</th>\n",
       "      <th>Residence_type</th>\n",
       "      <th>avg_glucose_level</th>\n",
       "      <th>bmi</th>\n",
       "      <th>smoking_status</th>\n",
       "      <th>1</th>\n",
       "    </tr>\n",
       "  </thead>\n",
       "  <tbody>\n",
       "    <tr>\n",
       "      <th>0</th>\n",
       "      <td>0</td>\n",
       "      <td>74</td>\n",
       "      <td>1</td>\n",
       "      <td>1</td>\n",
       "      <td>1</td>\n",
       "      <td>3</td>\n",
       "      <td>1</td>\n",
       "      <td>119</td>\n",
       "      <td>41</td>\n",
       "      <td>0</td>\n",
       "      <td>54</td>\n",
       "    </tr>\n",
       "    <tr>\n",
       "      <th>1</th>\n",
       "      <td>1</td>\n",
       "      <td>22</td>\n",
       "      <td>0</td>\n",
       "      <td>1</td>\n",
       "      <td>1</td>\n",
       "      <td>1</td>\n",
       "      <td>1</td>\n",
       "      <td>103</td>\n",
       "      <td>47</td>\n",
       "      <td>3</td>\n",
       "      <td>2</td>\n",
       "    </tr>\n",
       "    <tr>\n",
       "      <th>2</th>\n",
       "      <td>0</td>\n",
       "      <td>51</td>\n",
       "      <td>1</td>\n",
       "      <td>1</td>\n",
       "      <td>0</td>\n",
       "      <td>4</td>\n",
       "      <td>1</td>\n",
       "      <td>121</td>\n",
       "      <td>34</td>\n",
       "      <td>0</td>\n",
       "      <td>31</td>\n",
       "    </tr>\n",
       "    <tr>\n",
       "      <th>3</th>\n",
       "      <td>0</td>\n",
       "      <td>50</td>\n",
       "      <td>1</td>\n",
       "      <td>0</td>\n",
       "      <td>0</td>\n",
       "      <td>1</td>\n",
       "      <td>1</td>\n",
       "      <td>115</td>\n",
       "      <td>28</td>\n",
       "      <td>1</td>\n",
       "      <td>30</td>\n",
       "    </tr>\n",
       "    <tr>\n",
       "      <th>4</th>\n",
       "      <td>0</td>\n",
       "      <td>52</td>\n",
       "      <td>0</td>\n",
       "      <td>0</td>\n",
       "      <td>1</td>\n",
       "      <td>1</td>\n",
       "      <td>1</td>\n",
       "      <td>87</td>\n",
       "      <td>33</td>\n",
       "      <td>2</td>\n",
       "      <td>32</td>\n",
       "    </tr>\n",
       "    <tr>\n",
       "      <th>...</th>\n",
       "      <td>...</td>\n",
       "      <td>...</td>\n",
       "      <td>...</td>\n",
       "      <td>...</td>\n",
       "      <td>...</td>\n",
       "      <td>...</td>\n",
       "      <td>...</td>\n",
       "      <td>...</td>\n",
       "      <td>...</td>\n",
       "      <td>...</td>\n",
       "      <td>...</td>\n",
       "    </tr>\n",
       "    <tr>\n",
       "      <th>49995</th>\n",
       "      <td>1</td>\n",
       "      <td>45</td>\n",
       "      <td>0</td>\n",
       "      <td>1</td>\n",
       "      <td>1</td>\n",
       "      <td>4</td>\n",
       "      <td>0</td>\n",
       "      <td>111</td>\n",
       "      <td>44</td>\n",
       "      <td>2</td>\n",
       "      <td>25</td>\n",
       "    </tr>\n",
       "    <tr>\n",
       "      <th>49996</th>\n",
       "      <td>0</td>\n",
       "      <td>65</td>\n",
       "      <td>0</td>\n",
       "      <td>0</td>\n",
       "      <td>1</td>\n",
       "      <td>4</td>\n",
       "      <td>0</td>\n",
       "      <td>102</td>\n",
       "      <td>30</td>\n",
       "      <td>0</td>\n",
       "      <td>45</td>\n",
       "    </tr>\n",
       "    <tr>\n",
       "      <th>49997</th>\n",
       "      <td>0</td>\n",
       "      <td>78</td>\n",
       "      <td>0</td>\n",
       "      <td>1</td>\n",
       "      <td>1</td>\n",
       "      <td>3</td>\n",
       "      <td>1</td>\n",
       "      <td>110</td>\n",
       "      <td>26</td>\n",
       "      <td>1</td>\n",
       "      <td>58</td>\n",
       "    </tr>\n",
       "    <tr>\n",
       "      <th>49998</th>\n",
       "      <td>1</td>\n",
       "      <td>29</td>\n",
       "      <td>1</td>\n",
       "      <td>1</td>\n",
       "      <td>0</td>\n",
       "      <td>4</td>\n",
       "      <td>1</td>\n",
       "      <td>144</td>\n",
       "      <td>17</td>\n",
       "      <td>2</td>\n",
       "      <td>9</td>\n",
       "    </tr>\n",
       "    <tr>\n",
       "      <th>49999</th>\n",
       "      <td>1</td>\n",
       "      <td>41</td>\n",
       "      <td>1</td>\n",
       "      <td>0</td>\n",
       "      <td>1</td>\n",
       "      <td>0</td>\n",
       "      <td>1</td>\n",
       "      <td>96</td>\n",
       "      <td>15</td>\n",
       "      <td>1</td>\n",
       "      <td>21</td>\n",
       "    </tr>\n",
       "  </tbody>\n",
       "</table>\n",
       "<p>50000 rows × 11 columns</p>\n",
       "</div>"
      ],
      "text/plain": [
       "       gender  age  hypertension  heart_disease  ever_married  work_type  \\\n",
       "0           0   74             1              1             1          3   \n",
       "1           1   22             0              1             1          1   \n",
       "2           0   51             1              1             0          4   \n",
       "3           0   50             1              0             0          1   \n",
       "4           0   52             0              0             1          1   \n",
       "...       ...  ...           ...            ...           ...        ...   \n",
       "49995       1   45             0              1             1          4   \n",
       "49996       0   65             0              0             1          4   \n",
       "49997       0   78             0              1             1          3   \n",
       "49998       1   29             1              1             0          4   \n",
       "49999       1   41             1              0             1          0   \n",
       "\n",
       "       Residence_type  avg_glucose_level  bmi  smoking_status   1  \n",
       "0                   1                119   41               0  54  \n",
       "1                   1                103   47               3   2  \n",
       "2                   1                121   34               0  31  \n",
       "3                   1                115   28               1  30  \n",
       "4                   1                 87   33               2  32  \n",
       "...               ...                ...  ...             ...  ..  \n",
       "49995               0                111   44               2  25  \n",
       "49996               0                102   30               0  45  \n",
       "49997               1                110   26               1  58  \n",
       "49998               1                144   17               2   9  \n",
       "49999               1                 96   15               1  21  \n",
       "\n",
       "[50000 rows x 11 columns]"
      ]
     },
     "execution_count": 38,
     "metadata": {},
     "output_type": "execute_result"
    }
   ],
   "source": [
    "X"
   ]
  },
  {
   "cell_type": "code",
   "execution_count": 39,
   "metadata": {},
   "outputs": [],
   "source": [
    "X=X.drop(columns=1)"
   ]
  },
  {
   "cell_type": "code",
   "execution_count": 40,
   "metadata": {},
   "outputs": [
    {
     "data": {
      "text/html": [
       "<div>\n",
       "<style scoped>\n",
       "    .dataframe tbody tr th:only-of-type {\n",
       "        vertical-align: middle;\n",
       "    }\n",
       "\n",
       "    .dataframe tbody tr th {\n",
       "        vertical-align: top;\n",
       "    }\n",
       "\n",
       "    .dataframe thead th {\n",
       "        text-align: right;\n",
       "    }\n",
       "</style>\n",
       "<table border=\"1\" class=\"dataframe\">\n",
       "  <thead>\n",
       "    <tr style=\"text-align: right;\">\n",
       "      <th></th>\n",
       "      <th>gender</th>\n",
       "      <th>age</th>\n",
       "      <th>hypertension</th>\n",
       "      <th>heart_disease</th>\n",
       "      <th>ever_married</th>\n",
       "      <th>work_type</th>\n",
       "      <th>Residence_type</th>\n",
       "      <th>avg_glucose_level</th>\n",
       "      <th>bmi</th>\n",
       "      <th>smoking_status</th>\n",
       "    </tr>\n",
       "  </thead>\n",
       "  <tbody>\n",
       "    <tr>\n",
       "      <th>0</th>\n",
       "      <td>0</td>\n",
       "      <td>74</td>\n",
       "      <td>1</td>\n",
       "      <td>1</td>\n",
       "      <td>1</td>\n",
       "      <td>3</td>\n",
       "      <td>1</td>\n",
       "      <td>119</td>\n",
       "      <td>41</td>\n",
       "      <td>0</td>\n",
       "    </tr>\n",
       "    <tr>\n",
       "      <th>1</th>\n",
       "      <td>1</td>\n",
       "      <td>22</td>\n",
       "      <td>0</td>\n",
       "      <td>1</td>\n",
       "      <td>1</td>\n",
       "      <td>1</td>\n",
       "      <td>1</td>\n",
       "      <td>103</td>\n",
       "      <td>47</td>\n",
       "      <td>3</td>\n",
       "    </tr>\n",
       "    <tr>\n",
       "      <th>2</th>\n",
       "      <td>0</td>\n",
       "      <td>51</td>\n",
       "      <td>1</td>\n",
       "      <td>1</td>\n",
       "      <td>0</td>\n",
       "      <td>4</td>\n",
       "      <td>1</td>\n",
       "      <td>121</td>\n",
       "      <td>34</td>\n",
       "      <td>0</td>\n",
       "    </tr>\n",
       "    <tr>\n",
       "      <th>3</th>\n",
       "      <td>0</td>\n",
       "      <td>50</td>\n",
       "      <td>1</td>\n",
       "      <td>0</td>\n",
       "      <td>0</td>\n",
       "      <td>1</td>\n",
       "      <td>1</td>\n",
       "      <td>115</td>\n",
       "      <td>28</td>\n",
       "      <td>1</td>\n",
       "    </tr>\n",
       "    <tr>\n",
       "      <th>4</th>\n",
       "      <td>0</td>\n",
       "      <td>52</td>\n",
       "      <td>0</td>\n",
       "      <td>0</td>\n",
       "      <td>1</td>\n",
       "      <td>1</td>\n",
       "      <td>1</td>\n",
       "      <td>87</td>\n",
       "      <td>33</td>\n",
       "      <td>2</td>\n",
       "    </tr>\n",
       "    <tr>\n",
       "      <th>...</th>\n",
       "      <td>...</td>\n",
       "      <td>...</td>\n",
       "      <td>...</td>\n",
       "      <td>...</td>\n",
       "      <td>...</td>\n",
       "      <td>...</td>\n",
       "      <td>...</td>\n",
       "      <td>...</td>\n",
       "      <td>...</td>\n",
       "      <td>...</td>\n",
       "    </tr>\n",
       "    <tr>\n",
       "      <th>49995</th>\n",
       "      <td>1</td>\n",
       "      <td>45</td>\n",
       "      <td>0</td>\n",
       "      <td>1</td>\n",
       "      <td>1</td>\n",
       "      <td>4</td>\n",
       "      <td>0</td>\n",
       "      <td>111</td>\n",
       "      <td>44</td>\n",
       "      <td>2</td>\n",
       "    </tr>\n",
       "    <tr>\n",
       "      <th>49996</th>\n",
       "      <td>0</td>\n",
       "      <td>65</td>\n",
       "      <td>0</td>\n",
       "      <td>0</td>\n",
       "      <td>1</td>\n",
       "      <td>4</td>\n",
       "      <td>0</td>\n",
       "      <td>102</td>\n",
       "      <td>30</td>\n",
       "      <td>0</td>\n",
       "    </tr>\n",
       "    <tr>\n",
       "      <th>49997</th>\n",
       "      <td>0</td>\n",
       "      <td>78</td>\n",
       "      <td>0</td>\n",
       "      <td>1</td>\n",
       "      <td>1</td>\n",
       "      <td>3</td>\n",
       "      <td>1</td>\n",
       "      <td>110</td>\n",
       "      <td>26</td>\n",
       "      <td>1</td>\n",
       "    </tr>\n",
       "    <tr>\n",
       "      <th>49998</th>\n",
       "      <td>1</td>\n",
       "      <td>29</td>\n",
       "      <td>1</td>\n",
       "      <td>1</td>\n",
       "      <td>0</td>\n",
       "      <td>4</td>\n",
       "      <td>1</td>\n",
       "      <td>144</td>\n",
       "      <td>17</td>\n",
       "      <td>2</td>\n",
       "    </tr>\n",
       "    <tr>\n",
       "      <th>49999</th>\n",
       "      <td>1</td>\n",
       "      <td>41</td>\n",
       "      <td>1</td>\n",
       "      <td>0</td>\n",
       "      <td>1</td>\n",
       "      <td>0</td>\n",
       "      <td>1</td>\n",
       "      <td>96</td>\n",
       "      <td>15</td>\n",
       "      <td>1</td>\n",
       "    </tr>\n",
       "  </tbody>\n",
       "</table>\n",
       "<p>50000 rows × 10 columns</p>\n",
       "</div>"
      ],
      "text/plain": [
       "       gender  age  hypertension  heart_disease  ever_married  work_type  \\\n",
       "0           0   74             1              1             1          3   \n",
       "1           1   22             0              1             1          1   \n",
       "2           0   51             1              1             0          4   \n",
       "3           0   50             1              0             0          1   \n",
       "4           0   52             0              0             1          1   \n",
       "...       ...  ...           ...            ...           ...        ...   \n",
       "49995       1   45             0              1             1          4   \n",
       "49996       0   65             0              0             1          4   \n",
       "49997       0   78             0              1             1          3   \n",
       "49998       1   29             1              1             0          4   \n",
       "49999       1   41             1              0             1          0   \n",
       "\n",
       "       Residence_type  avg_glucose_level  bmi  smoking_status  \n",
       "0                   1                119   41               0  \n",
       "1                   1                103   47               3  \n",
       "2                   1                121   34               0  \n",
       "3                   1                115   28               1  \n",
       "4                   1                 87   33               2  \n",
       "...               ...                ...  ...             ...  \n",
       "49995               0                111   44               2  \n",
       "49996               0                102   30               0  \n",
       "49997               1                110   26               1  \n",
       "49998               1                144   17               2  \n",
       "49999               1                 96   15               1  \n",
       "\n",
       "[50000 rows x 10 columns]"
      ]
     },
     "execution_count": 40,
     "metadata": {},
     "output_type": "execute_result"
    }
   ],
   "source": [
    "X"
   ]
  },
  {
   "cell_type": "code",
   "execution_count": 41,
   "metadata": {
    "scrolled": true
   },
   "outputs": [
    {
     "data": {
      "text/plain": [
       "0        1\n",
       "1        0\n",
       "2        1\n",
       "3        1\n",
       "4        1\n",
       "        ..\n",
       "49995    0\n",
       "49996    1\n",
       "49997    1\n",
       "49998    0\n",
       "49999    0\n",
       "Name: stroke, Length: 50000, dtype: int64"
      ]
     },
     "execution_count": 41,
     "metadata": {},
     "output_type": "execute_result"
    }
   ],
   "source": [
    "y"
   ]
  },
  {
   "cell_type": "code",
   "execution_count": 42,
   "metadata": {},
   "outputs": [],
   "source": [
    "from sklearn.model_selection import train_test_split\n",
    "X_train, X_test, y_train, y_test = train_test_split(X, y, test_size = 0.2, random_state = 0)"
   ]
  },
  {
   "cell_type": "markdown",
   "metadata": {},
   "source": [
    "### Scaling the data"
   ]
  },
  {
   "cell_type": "code",
   "execution_count": 43,
   "metadata": {},
   "outputs": [],
   "source": [
    "from sklearn.preprocessing import StandardScaler\n",
    "sc = StandardScaler()\n",
    "X_train = sc.fit_transform(X_train)\n",
    "X_test = sc.transform(X_test)"
   ]
  },
  {
   "cell_type": "markdown",
   "metadata": {},
   "source": [
    "### Importing keras library"
   ]
  },
  {
   "cell_type": "code",
   "execution_count": 44,
   "metadata": {},
   "outputs": [],
   "source": [
    "import keras\n",
    "from keras.models import Sequential\n",
    "from keras.layers import Dense"
   ]
  },
  {
   "cell_type": "code",
   "execution_count": 45,
   "metadata": {},
   "outputs": [],
   "source": [
    "classifier = Sequential()"
   ]
  },
  {
   "cell_type": "code",
   "execution_count": 46,
   "metadata": {},
   "outputs": [],
   "source": [
    "classifier.add(Dense(units = 6, kernel_initializer = 'uniform', activation = 'relu', input_dim = 10))"
   ]
  },
  {
   "cell_type": "code",
   "execution_count": 47,
   "metadata": {},
   "outputs": [],
   "source": [
    "classifier.add(Dense(units = 6, kernel_initializer = 'uniform', activation = 'relu'))"
   ]
  },
  {
   "cell_type": "code",
   "execution_count": 48,
   "metadata": {},
   "outputs": [],
   "source": [
    "classifier.add(Dense(units = 1, kernel_initializer = 'uniform', activation = 'sigmoid'))"
   ]
  },
  {
   "cell_type": "code",
   "execution_count": 49,
   "metadata": {},
   "outputs": [],
   "source": [
    "classifier.compile(optimizer = 'adam', loss = 'binary_crossentropy', metrics = ['accuracy'])"
   ]
  },
  {
   "cell_type": "code",
   "execution_count": 50,
   "metadata": {
    "scrolled": false
   },
   "outputs": [
    {
     "name": "stdout",
     "output_type": "stream",
     "text": [
      "Epoch 1/100\n",
      "4000/4000 [==============================] - 4s 987us/step - loss: 0.6735 - accuracy: 0.6018\n",
      "Epoch 2/100\n",
      "4000/4000 [==============================] - 4s 982us/step - loss: 0.6724 - accuracy: 0.6018\n",
      "Epoch 3/100\n",
      "4000/4000 [==============================] - 4s 952us/step - loss: 0.6723 - accuracy: 0.6018\n",
      "Epoch 4/100\n",
      "4000/4000 [==============================] - 4s 961us/step - loss: 0.6723 - accuracy: 0.6018\n",
      "Epoch 5/100\n",
      "4000/4000 [==============================] - 4s 971us/step - loss: 0.6723 - accuracy: 0.6018\n",
      "Epoch 6/100\n",
      "4000/4000 [==============================] - 4s 960us/step - loss: 0.6722 - accuracy: 0.6018\n",
      "Epoch 7/100\n",
      "4000/4000 [==============================] - 4s 961us/step - loss: 0.6721 - accuracy: 0.6018\n",
      "Epoch 8/100\n",
      "4000/4000 [==============================] - 4s 962us/step - loss: 0.6721 - accuracy: 0.6018\n",
      "Epoch 9/100\n",
      "4000/4000 [==============================] - 4s 958us/step - loss: 0.6721 - accuracy: 0.6018\n",
      "Epoch 10/100\n",
      "4000/4000 [==============================] - 4s 970us/step - loss: 0.6721 - accuracy: 0.6018\n",
      "Epoch 11/100\n",
      "4000/4000 [==============================] - 4s 974us/step - loss: 0.6719 - accuracy: 0.6018\n",
      "Epoch 12/100\n",
      "4000/4000 [==============================] - 4s 969us/step - loss: 0.6720 - accuracy: 0.6018\n",
      "Epoch 13/100\n",
      "4000/4000 [==============================] - 4s 958us/step - loss: 0.6720 - accuracy: 0.6018\n",
      "Epoch 14/100\n",
      "4000/4000 [==============================] - 4s 963us/step - loss: 0.6720 - accuracy: 0.6018\n",
      "Epoch 15/100\n",
      "4000/4000 [==============================] - 4s 964us/step - loss: 0.6719 - accuracy: 0.6018\n",
      "Epoch 16/100\n",
      "4000/4000 [==============================] - 4s 963us/step - loss: 0.6719 - accuracy: 0.6018\n",
      "Epoch 17/100\n",
      "4000/4000 [==============================] - 4s 971us/step - loss: 0.6718 - accuracy: 0.6018\n",
      "Epoch 18/100\n",
      "4000/4000 [==============================] - 4s 968us/step - loss: 0.6719 - accuracy: 0.6018\n",
      "Epoch 19/100\n",
      "4000/4000 [==============================] - 4s 973us/step - loss: 0.6718 - accuracy: 0.6018\n",
      "Epoch 20/100\n",
      "4000/4000 [==============================] - 4s 972us/step - loss: 0.6718 - accuracy: 0.6018\n",
      "Epoch 21/100\n",
      "4000/4000 [==============================] - 4s 958us/step - loss: 0.6717 - accuracy: 0.6018\n",
      "Epoch 22/100\n",
      "4000/4000 [==============================] - 4s 965us/step - loss: 0.6717 - accuracy: 0.6018\n",
      "Epoch 23/100\n",
      "4000/4000 [==============================] - 4s 967us/step - loss: 0.6717 - accuracy: 0.6018\n",
      "Epoch 24/100\n",
      "4000/4000 [==============================] - 4s 961us/step - loss: 0.6716 - accuracy: 0.6018\n",
      "Epoch 25/100\n",
      "4000/4000 [==============================] - 4s 962us/step - loss: 0.6717 - accuracy: 0.6018\n",
      "Epoch 26/100\n",
      "4000/4000 [==============================] - 4s 970us/step - loss: 0.6716 - accuracy: 0.6018\n",
      "Epoch 27/100\n",
      "4000/4000 [==============================] - 4s 972us/step - loss: 0.6717 - accuracy: 0.6018\n",
      "Epoch 28/100\n",
      "4000/4000 [==============================] - 4s 967us/step - loss: 0.6716 - accuracy: 0.6018\n",
      "Epoch 29/100\n",
      "4000/4000 [==============================] - 4s 1ms/step - loss: 0.6715 - accuracy: 0.6018\n",
      "Epoch 30/100\n",
      "4000/4000 [==============================] - 4s 1ms/step - loss: 0.6715 - accuracy: 0.6018\n",
      "Epoch 31/100\n",
      "4000/4000 [==============================] - 4s 1ms/step - loss: 0.6715 - accuracy: 0.6018\n",
      "Epoch 32/100\n",
      "4000/4000 [==============================] - 4s 997us/step - loss: 0.6715 - accuracy: 0.6018\n",
      "Epoch 33/100\n",
      "4000/4000 [==============================] - 4s 999us/step - loss: 0.6716 - accuracy: 0.6018\n",
      "Epoch 34/100\n",
      "4000/4000 [==============================] - 4s 998us/step - loss: 0.6716 - accuracy: 0.6018\n",
      "Epoch 35/100\n",
      "4000/4000 [==============================] - 4s 989us/step - loss: 0.6715 - accuracy: 0.6018\n",
      "Epoch 36/100\n",
      "4000/4000 [==============================] - 4s 1ms/step - loss: 0.6716 - accuracy: 0.6018\n",
      "Epoch 37/100\n",
      "4000/4000 [==============================] - 4s 997us/step - loss: 0.6714 - accuracy: 0.6018\n",
      "Epoch 38/100\n",
      "4000/4000 [==============================] - 4s 1ms/step - loss: 0.6715 - accuracy: 0.6018\n",
      "Epoch 39/100\n",
      "4000/4000 [==============================] - 4s 998us/step - loss: 0.6715 - accuracy: 0.6018\n",
      "Epoch 40/100\n",
      "4000/4000 [==============================] - 4s 1ms/step - loss: 0.6716 - accuracy: 0.6018\n",
      "Epoch 41/100\n",
      "4000/4000 [==============================] - 4s 1ms/step - loss: 0.6715 - accuracy: 0.6018\n",
      "Epoch 42/100\n",
      "4000/4000 [==============================] - 4s 1ms/step - loss: 0.6716 - accuracy: 0.6018\n",
      "Epoch 43/100\n",
      "4000/4000 [==============================] - 4s 995us/step - loss: 0.6715 - accuracy: 0.6018\n",
      "Epoch 44/100\n",
      "4000/4000 [==============================] - 4s 1ms/step - loss: 0.6714 - accuracy: 0.6018\n",
      "Epoch 45/100\n",
      "4000/4000 [==============================] - 4s 1ms/step - loss: 0.6714 - accuracy: 0.6019\n",
      "Epoch 46/100\n",
      "4000/4000 [==============================] - 4s 1ms/step - loss: 0.6714 - accuracy: 0.6018\n",
      "Epoch 47/100\n",
      "4000/4000 [==============================] - 4s 1ms/step - loss: 0.6714 - accuracy: 0.6018\n",
      "Epoch 48/100\n",
      "4000/4000 [==============================] - 4s 1ms/step - loss: 0.6714 - accuracy: 0.6018\n",
      "Epoch 49/100\n",
      "4000/4000 [==============================] - 4s 1ms/step - loss: 0.6714 - accuracy: 0.6018\n",
      "Epoch 50/100\n",
      "4000/4000 [==============================] - 4s 1ms/step - loss: 0.6714 - accuracy: 0.6018\n",
      "Epoch 51/100\n",
      "4000/4000 [==============================] - 4s 1ms/step - loss: 0.6714 - accuracy: 0.6018\n",
      "Epoch 52/100\n",
      "4000/4000 [==============================] - 4s 1ms/step - loss: 0.6715 - accuracy: 0.6018\n",
      "Epoch 53/100\n",
      "4000/4000 [==============================] - 4s 1ms/step - loss: 0.6715 - accuracy: 0.6018\n",
      "Epoch 54/100\n",
      "4000/4000 [==============================] - 4s 1ms/step - loss: 0.6714 - accuracy: 0.6018\n",
      "Epoch 55/100\n",
      "4000/4000 [==============================] - 4s 1ms/step - loss: 0.6714 - accuracy: 0.6020\n",
      "Epoch 56/100\n",
      "4000/4000 [==============================] - 4s 1ms/step - loss: 0.6714 - accuracy: 0.6019\n",
      "Epoch 57/100\n",
      "4000/4000 [==============================] - 4s 1ms/step - loss: 0.6714 - accuracy: 0.6018\n",
      "Epoch 58/100\n",
      "4000/4000 [==============================] - 4s 1ms/step - loss: 0.6713 - accuracy: 0.6018\n",
      "Epoch 59/100\n",
      "4000/4000 [==============================] - 4s 1ms/step - loss: 0.6714 - accuracy: 0.6018\n",
      "Epoch 60/100\n",
      "4000/4000 [==============================] - 4s 1ms/step - loss: 0.6713 - accuracy: 0.6018\n",
      "Epoch 61/100\n",
      "4000/4000 [==============================] - 4s 1ms/step - loss: 0.6713 - accuracy: 0.6019\n",
      "Epoch 62/100\n",
      "4000/4000 [==============================] - 5s 1ms/step - loss: 0.6712 - accuracy: 0.6018\n",
      "Epoch 63/100\n",
      "4000/4000 [==============================] - 5s 1ms/step - loss: 0.6713 - accuracy: 0.6018\n",
      "Epoch 64/100\n",
      "4000/4000 [==============================] - 4s 1ms/step - loss: 0.6712 - accuracy: 0.6018\n",
      "Epoch 65/100\n",
      "4000/4000 [==============================] - 4s 1ms/step - loss: 0.6712 - accuracy: 0.6019\n",
      "Epoch 66/100\n",
      "4000/4000 [==============================] - 4s 1ms/step - loss: 0.6711 - accuracy: 0.6019\n",
      "Epoch 67/100\n",
      "4000/4000 [==============================] - 4s 1ms/step - loss: 0.6712 - accuracy: 0.6019\n",
      "Epoch 68/100\n",
      "4000/4000 [==============================] - 4s 1ms/step - loss: 0.6712 - accuracy: 0.6018\n",
      "Epoch 69/100\n",
      "4000/4000 [==============================] - 4s 1ms/step - loss: 0.6711 - accuracy: 0.6020\n",
      "Epoch 70/100\n",
      "4000/4000 [==============================] - 4s 1ms/step - loss: 0.6711 - accuracy: 0.6018\n",
      "Epoch 71/100\n",
      "4000/4000 [==============================] - 4s 1ms/step - loss: 0.6712 - accuracy: 0.6018\n",
      "Epoch 72/100\n",
      "4000/4000 [==============================] - 4s 1ms/step - loss: 0.6710 - accuracy: 0.6019\n",
      "Epoch 73/100\n",
      "4000/4000 [==============================] - 4s 1ms/step - loss: 0.6711 - accuracy: 0.6020\n",
      "Epoch 74/100\n",
      "4000/4000 [==============================] - 4s 1ms/step - loss: 0.6710 - accuracy: 0.6022\n",
      "Epoch 75/100\n",
      "4000/4000 [==============================] - 4s 1ms/step - loss: 0.6710 - accuracy: 0.6018\n",
      "Epoch 76/100\n",
      "4000/4000 [==============================] - 4s 1ms/step - loss: 0.6712 - accuracy: 0.6020\n",
      "Epoch 77/100\n",
      "4000/4000 [==============================] - 4s 1ms/step - loss: 0.6711 - accuracy: 0.6019\n",
      "Epoch 78/100\n",
      "4000/4000 [==============================] - 4s 1ms/step - loss: 0.6710 - accuracy: 0.6018\n",
      "Epoch 79/100\n",
      "4000/4000 [==============================] - 4s 992us/step - loss: 0.6711 - accuracy: 0.6017\n",
      "Epoch 80/100\n",
      "4000/4000 [==============================] - 4s 992us/step - loss: 0.6711 - accuracy: 0.6018\n",
      "Epoch 81/100\n",
      "4000/4000 [==============================] - 4s 967us/step - loss: 0.6711 - accuracy: 0.6018\n",
      "Epoch 82/100\n",
      "4000/4000 [==============================] - 4s 984us/step - loss: 0.6711 - accuracy: 0.6018\n",
      "Epoch 83/100\n",
      "4000/4000 [==============================] - 4s 989us/step - loss: 0.6710 - accuracy: 0.6019\n",
      "Epoch 84/100\n",
      "4000/4000 [==============================] - 4s 977us/step - loss: 0.6710 - accuracy: 0.6020\n",
      "Epoch 85/100\n",
      "4000/4000 [==============================] - 4s 994us/step - loss: 0.6711 - accuracy: 0.6019\n",
      "Epoch 86/100\n",
      "4000/4000 [==============================] - 4s 984us/step - loss: 0.6710 - accuracy: 0.6019\n",
      "Epoch 87/100\n",
      "4000/4000 [==============================] - 4s 976us/step - loss: 0.6710 - accuracy: 0.6016\n",
      "Epoch 88/100\n",
      "4000/4000 [==============================] - 4s 1ms/step - loss: 0.6710 - accuracy: 0.6019\n",
      "Epoch 89/100\n",
      "4000/4000 [==============================] - 4s 1ms/step - loss: 0.6710 - accuracy: 0.6013\n",
      "Epoch 90/100\n",
      "4000/4000 [==============================] - 4s 974us/step - loss: 0.6709 - accuracy: 0.6016\n",
      "Epoch 91/100\n",
      "4000/4000 [==============================] - 4s 1ms/step - loss: 0.6709 - accuracy: 0.6021\n",
      "Epoch 92/100\n",
      "4000/4000 [==============================] - 4s 1ms/step - loss: 0.6709 - accuracy: 0.6017\n",
      "Epoch 93/100\n",
      "4000/4000 [==============================] - 4s 1ms/step - loss: 0.6709 - accuracy: 0.6021\n",
      "Epoch 94/100\n",
      "4000/4000 [==============================] - 4s 1ms/step - loss: 0.6710 - accuracy: 0.6021\n",
      "Epoch 95/100\n",
      "4000/4000 [==============================] - 4s 1ms/step - loss: 0.6709 - accuracy: 0.6018\n",
      "Epoch 96/100\n",
      "4000/4000 [==============================] - 4s 1ms/step - loss: 0.6707 - accuracy: 0.6020\n",
      "Epoch 97/100\n",
      "4000/4000 [==============================] - 4s 1ms/step - loss: 0.6709 - accuracy: 0.6020\n",
      "Epoch 98/100\n",
      "4000/4000 [==============================] - 4s 1ms/step - loss: 0.6708 - accuracy: 0.6019\n",
      "Epoch 99/100\n",
      "4000/4000 [==============================] - 4s 1ms/step - loss: 0.6708 - accuracy: 0.6018\n",
      "Epoch 100/100\n",
      "4000/4000 [==============================] - 4s 1ms/step - loss: 0.6708 - accuracy: 0.6018\n"
     ]
    },
    {
     "data": {
      "text/plain": [
       "<keras.callbacks.History at 0x1b76335fe20>"
      ]
     },
     "execution_count": 50,
     "metadata": {},
     "output_type": "execute_result"
    }
   ],
   "source": [
    "classifier.fit(X_train, y_train, batch_size = 10, epochs = 100)"
   ]
  },
  {
   "cell_type": "markdown",
   "metadata": {},
   "source": [
    "### Displaying the results"
   ]
  },
  {
   "cell_type": "code",
   "execution_count": 51,
   "metadata": {},
   "outputs": [],
   "source": [
    "y_pred = classifier.predict(X_test)\n",
    "y_pred = (y_pred > 0.5)"
   ]
  },
  {
   "cell_type": "code",
   "execution_count": 52,
   "metadata": {},
   "outputs": [
    {
     "data": {
      "text/plain": [
       "array([[False],\n",
       "       [False],\n",
       "       [False],\n",
       "       ...,\n",
       "       [False],\n",
       "       [False],\n",
       "       [False]])"
      ]
     },
     "execution_count": 52,
     "metadata": {},
     "output_type": "execute_result"
    }
   ],
   "source": [
    "y_pred"
   ]
  },
  {
   "cell_type": "code",
   "execution_count": 53,
   "metadata": {},
   "outputs": [],
   "source": [
    "import warnings\n",
    "warnings.filterwarnings('ignore')"
   ]
  },
  {
   "cell_type": "code",
   "execution_count": 54,
   "metadata": {},
   "outputs": [
    {
     "name": "stdout",
     "output_type": "stream",
     "text": [
      "[[6031   12]\n",
      " [3952    5]]\n",
      "0.6036\n",
      "              precision    recall  f1-score   support\n",
      "\n",
      "           0       0.60      1.00      0.75      6043\n",
      "           1       0.29      0.00      0.00      3957\n",
      "\n",
      "    accuracy                           0.60     10000\n",
      "   macro avg       0.45      0.50      0.38     10000\n",
      "weighted avg       0.48      0.60      0.46     10000\n",
      "\n"
     ]
    }
   ],
   "source": [
    "from sklearn.metrics import confusion_matrix, accuracy_score\n",
    "print(confusion_matrix(y_test, y_pred))\n",
    "print(accuracy_score(y_test,y_pred))\n",
    "print(classification_report(y_test,y_pred))"
   ]
  }
 ],
 "metadata": {
  "kernelspec": {
   "display_name": "Python 3",
   "language": "python",
   "name": "python3"
  },
  "language_info": {
   "codemirror_mode": {
    "name": "ipython",
    "version": 3
   },
   "file_extension": ".py",
   "mimetype": "text/x-python",
   "name": "python",
   "nbconvert_exporter": "python",
   "pygments_lexer": "ipython3",
   "version": "3.8.5"
  }
 },
 "nbformat": 4,
 "nbformat_minor": 4
}
